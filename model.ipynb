{
 "cells": [
  {
   "cell_type": "code",
   "id": "initial_id",
   "metadata": {
    "collapsed": true,
    "ExecuteTime": {
     "end_time": "2025-09-29T14:13:29.284741Z",
     "start_time": "2025-09-29T14:13:25.301098Z"
    }
   },
   "source": [
    "from sklearn.metrics import classification_report, precision_score\n",
    "from sklearn.ensemble import RandomForestClassifier\n",
    "from sklearn.model_selection import train_test_split\n",
    "import pandas as pd\n",
    "\n",
    "\n",
    "%store -r export_df\n",
    "df = export_df\n",
    "print(df)\n",
    "\n",
    "x = df.drop(columns=['activity'])\n",
    "y = df['activity']\n",
    "\n",
    "\n",
    "x_train, x_test, y_train, y_test = train_test_split(\n",
    "    x, y, test_size=0.1, random_state=42, stratify=y\n",
    ")\n",
    "\n",
    "forest = RandomForestClassifier(n_estimators=200, random_state=42)\n",
    "\n",
    "forest.fit(x_train, y_train)\n",
    "\n",
    "predictions = forest.predict(x_test)\n",
    "\n",
    "acc = classification_report(y_test, predictions)\n",
    "\n",
    "print(acc)\n",
    "print(df['activity'].value_counts())\n"
   ],
   "outputs": [
    {
     "name": "stdout",
     "output_type": "stream",
     "text": [
      "            dxy      rsi_6     rsi_12        macd  macd_signal   macd_hist  \\\n",
      "49    97.300003  42.429678  51.461756   46.928055    60.914355  -13.986301   \n",
      "50    97.300003  60.781883  58.708911   47.704913    58.272467  -10.567554   \n",
      "51    97.300003  76.258415  67.679859   58.133906    58.244755   -0.110849   \n",
      "52    97.300003  88.711980  79.177542   89.787688    64.553341   25.234346   \n",
      "53    97.300003  89.413202  79.994502  116.105179    74.863709   41.241470   \n",
      "...         ...        ...        ...         ...          ...         ...   \n",
      "4197  97.865997  92.370356  84.874893  190.074830    65.446047  124.628783   \n",
      "4198  97.865997  82.266358  78.471314  233.507220    99.058282  134.448938   \n",
      "4199  97.865997  82.467718  78.625245  265.694451   132.385516  133.308936   \n",
      "4200  97.865997  86.020195  81.339737  303.178414   166.544095  136.634319   \n",
      "4201  97.865997  87.607307  82.608774  337.146551   200.664586  136.481964   \n",
      "\n",
      "             ema_21       sma_50     activity  \n",
      "49    115416.585837  115266.7698   Strong Buy  \n",
      "50    115423.986215  115273.4432   Strong Buy  \n",
      "51    115442.524741  115284.5574   Strong Buy  \n",
      "52    115486.894310  115300.9522   Strong Buy  \n",
      "53    115530.125737  115320.4076          Buy  \n",
      "...             ...          ...          ...  \n",
      "4197  112349.479843  112158.9510  Strong Sell  \n",
      "4198  112428.346221  112182.2506         Sell  \n",
      "4199  112500.977474  112204.2438   Strong Buy  \n",
      "4200  112584.434976  112231.1438   Strong Buy  \n",
      "4201  112669.485433  112259.3256   Strong Buy  \n",
      "\n",
      "[4153 rows x 9 columns]\n",
      "              precision    recall  f1-score   support\n",
      "\n",
      "         Buy       0.23      0.12      0.16        50\n",
      "        Hold       0.30      0.23      0.26        53\n",
      "        Sell       0.18      0.13      0.15        53\n",
      "  Strong Buy       0.40      0.50      0.45       130\n",
      " Strong Sell       0.39      0.45      0.42       130\n",
      "\n",
      "    accuracy                           0.36       416\n",
      "   macro avg       0.30      0.29      0.29       416\n",
      "weighted avg       0.34      0.36      0.34       416\n",
      "\n",
      "activity\n",
      "Strong Buy     1302\n",
      "Strong Sell    1295\n",
      "Hold            530\n",
      "Sell            524\n",
      "Buy             502\n",
      "Name: count, dtype: int64\n"
     ]
    }
   ],
   "execution_count": 1
  }
 ],
 "metadata": {
  "kernelspec": {
   "display_name": "Python 3",
   "language": "python",
   "name": "python3"
  },
  "language_info": {
   "codemirror_mode": {
    "name": "ipython",
    "version": 2
   },
   "file_extension": ".py",
   "mimetype": "text/x-python",
   "name": "python",
   "nbconvert_exporter": "python",
   "pygments_lexer": "ipython2",
   "version": "2.7.6"
  }
 },
 "nbformat": 4,
 "nbformat_minor": 5
}
