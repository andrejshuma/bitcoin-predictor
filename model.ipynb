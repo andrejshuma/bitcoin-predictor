{
 "cells": [
  {
   "cell_type": "code",
   "id": "initial_id",
   "metadata": {
    "collapsed": true,
    "ExecuteTime": {
     "end_time": "2025-09-22T20:47:24.857586Z",
     "start_time": "2025-09-22T20:47:21.503272Z"
    }
   },
   "source": [
    "from sklearn.metrics import classification_report, precision_score\n",
    "from sklearn.ensemble import RandomForestClassifier\n",
    "from sklearn.model_selection import train_test_split\n",
    "import pandas as pd\n",
    "\n",
    "\n",
    "%store -r export_df\n",
    "df = export_df\n",
    "print(df)\n",
    "\n",
    "x = df.drop(columns=['activity'])\n",
    "y = df['activity']\n",
    "\n",
    "split_index = int(len(df) * 0.7)\n",
    "\n",
    "x_train = x.iloc[:split_index]\n",
    "x_test = x.iloc[split_index:]\n",
    "\n",
    "y_train = y.iloc[:split_index]\n",
    "y_test = y.iloc[split_index:]\n",
    "\n",
    "forest = RandomForestClassifier(n_estimators=200, random_state=42)\n",
    "\n",
    "forest.fit(x_train, y_train)\n",
    "\n",
    "predictions = forest.predict(x_test)\n",
    "\n",
    "acc = classification_report(y_test, predictions)\n",
    "\n",
    "print(acc)\n",
    "print(df['activity'].value_counts())\n"
   ],
   "outputs": [
    {
     "name": "stdout",
     "output_type": "stream",
     "text": [
      "            dxy         ema_21       sma_50     activity\n",
      "49    97.449997  111094.219386  111021.6016  Strong Sell\n",
      "50    97.449997  111091.768533  111021.8360   Strong Buy\n",
      "51    97.449997  111091.642302  111022.7954   Strong Buy\n",
      "52    97.449997  111095.653911  111023.1908   Strong Buy\n",
      "53    97.449997  111099.299919  111025.4416   Strong Buy\n",
      "...         ...            ...          ...          ...\n",
      "4273  97.338997  112331.001278  112510.3936   Strong Buy\n",
      "4274  97.338997  112312.473889  112495.3824   Strong Buy\n",
      "4275  97.338997  112295.153535  112481.9680   Strong Buy\n",
      "4276  97.338997  112282.456850  112468.9786   Strong Buy\n",
      "4277  97.338997  112282.234409  112460.0528   Strong Buy\n",
      "\n",
      "[4229 rows x 4 columns]\n",
      "              precision    recall  f1-score   support\n",
      "\n",
      "         Buy       0.21      0.10      0.13       195\n",
      "        Hold       0.25      0.06      0.10       201\n",
      "        Sell       0.13      0.10      0.11       183\n",
      "  Strong Buy       0.26      0.39      0.32       330\n",
      " Strong Sell       0.31      0.42      0.36       360\n",
      "\n",
      "    accuracy                           0.26      1269\n",
      "   macro avg       0.23      0.22      0.20      1269\n",
      "weighted avg       0.25      0.26      0.24      1269\n",
      "\n",
      "activity\n",
      "Strong Buy     1356\n",
      "Strong Sell    1309\n",
      "Sell            538\n",
      "Buy             514\n",
      "Hold            512\n",
      "Name: count, dtype: int64\n"
     ]
    }
   ],
   "execution_count": 27
  }
 ],
 "metadata": {
  "kernelspec": {
   "display_name": "Python 3",
   "language": "python",
   "name": "python3"
  },
  "language_info": {
   "codemirror_mode": {
    "name": "ipython",
    "version": 2
   },
   "file_extension": ".py",
   "mimetype": "text/x-python",
   "name": "python",
   "nbconvert_exporter": "python",
   "pygments_lexer": "ipython2",
   "version": "2.7.6"
  }
 },
 "nbformat": 4,
 "nbformat_minor": 5
}
