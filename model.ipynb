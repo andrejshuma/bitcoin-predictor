{
 "cells": [
  {
   "cell_type": "code",
   "id": "initial_id",
   "metadata": {
    "collapsed": true,
    "ExecuteTime": {
     "end_time": "2025-09-30T07:55:51.291221Z",
     "start_time": "2025-09-30T07:55:49.324151Z"
    }
   },
   "source": [
    "from sklearn.metrics import classification_report, precision_score\n",
    "from sklearn.ensemble import RandomForestClassifier\n",
    "from sklearn.model_selection import train_test_split\n",
    "from sklearn.preprocessing import LabelEncoder\n",
    "import pandas as pd\n",
    "import xgboost as xgb\n",
    "\n",
    "%store -r export_df\n",
    "df = export_df\n",
    "print(df)\n",
    "\n",
    "\n",
    "\n",
    "x = df.drop(columns=['activity'])\n",
    "y = df['activity']\n",
    "\n",
    "label_encoder = LabelEncoder()\n",
    "y_encoded = label_encoder.fit_transform(y)\n",
    "\n",
    "x_train, x_test, y_train, y_test = train_test_split(\n",
    "    x, y, test_size=0.1, random_state=42, stratify=y\n",
    ")\n",
    "y_train_encoded = label_encoder.transform(y_train)\n",
    "y_test_encoded = label_encoder.transform(y_test)\n",
    "\n",
    "forest = RandomForestClassifier(n_estimators=200, random_state=42)\n",
    "xgb_model = xgb.XGBClassifier(objective=\"multi:softprob\", num_class=len(label_encoder.classes_), random_state=42)\n",
    "\n",
    "\n",
    "forest.fit(x_train, y_train)\n",
    "xgb_model.fit(x_train, y_train_encoded)\n",
    "\n",
    "predictions = forest.predict(x_test)\n",
    "predictions_xgb = xgb_model.predict(x_test)\n",
    "predictions_xgb_decoded = label_encoder.inverse_transform(predictions_xgb)\n",
    "\n",
    "acc = classification_report(y_test, predictions)\n",
    "acc_xgb = classification_report(y_test, predictions_xgb_decoded)\n",
    "\n",
    "\n",
    "print(acc_xgb)\n",
    "print(df['activity'].value_counts())\n"
   ],
   "outputs": [
    {
     "name": "stdout",
     "output_type": "stream",
     "text": [
      "            dxy      rsi_6     rsi_12       macd  macd_signal  macd_hist  \\\n",
      "49    97.300003  62.042073  57.750950  15.702564   -25.224870  40.927433   \n",
      "50    97.300003  56.817640  55.176864  20.225745   -16.134747  36.360492   \n",
      "51    97.300003  47.461901  50.396592  17.316035    -9.444590  26.760626   \n",
      "52    97.300003  42.145623  47.528972  10.866365    -5.382399  16.248764   \n",
      "53    97.300003  36.530449  44.378700   1.146351    -4.076649   5.223000   \n",
      "...         ...        ...        ...        ...          ...        ...   \n",
      "4314  97.778999  41.318937  41.531306 -51.897009   -59.615819   7.718811   \n",
      "4315  97.778999  47.567674  44.318769 -49.048074   -57.502270   8.454196   \n",
      "4316  97.778999  57.802929  49.321833 -42.984800   -54.598776  11.613976   \n",
      "4317  97.778999  32.465955  37.180280 -48.646169   -53.408255   4.762086   \n",
      "4318  97.778999  20.208374  28.388864 -65.098624   -55.746329  -9.352296   \n",
      "\n",
      "             ema_21       sma_50     activity  \n",
      "49    114975.319592  115072.3634   Strong Buy  \n",
      "50    114983.926902  115059.6092  Strong Sell  \n",
      "51    114984.659911  115044.7524  Strong Sell  \n",
      "52    114980.799010  115027.4638  Strong Sell  \n",
      "53    114972.111827  115015.7686   Strong Buy  \n",
      "...             ...          ...          ...  \n",
      "4314  113954.715908  114103.5894         Sell  \n",
      "4315  113950.787189  114094.0592   Strong Buy  \n",
      "4316  113950.944718  114085.1094  Strong Sell  \n",
      "4317  113938.664289  114075.1766  Strong Sell  \n",
      "4318  113913.173899  114061.8206  Strong Sell  \n",
      "\n",
      "[4270 rows x 9 columns]\n",
      "              precision    recall  f1-score   support\n",
      "\n",
      "         Buy       0.19      0.10      0.13        52\n",
      "        Hold       0.17      0.13      0.15        54\n",
      "        Sell       0.28      0.20      0.24        54\n",
      "  Strong Buy       0.45      0.51      0.48       134\n",
      " Strong Sell       0.42      0.53      0.47       133\n",
      "\n",
      "    accuracy                           0.38       427\n",
      "   macro avg       0.30      0.30      0.29       427\n",
      "weighted avg       0.35      0.38      0.36       427\n",
      "\n",
      "activity\n",
      "Strong Buy     1338\n",
      "Strong Sell    1333\n",
      "Sell            543\n",
      "Hold            542\n",
      "Buy             514\n",
      "Name: count, dtype: int64\n"
     ]
    }
   ],
   "execution_count": 9
  }
 ],
 "metadata": {
  "kernelspec": {
   "display_name": "Python 3",
   "language": "python",
   "name": "python3"
  },
  "language_info": {
   "codemirror_mode": {
    "name": "ipython",
    "version": 2
   },
   "file_extension": ".py",
   "mimetype": "text/x-python",
   "name": "python",
   "nbconvert_exporter": "python",
   "pygments_lexer": "ipython2",
   "version": "2.7.6"
  }
 },
 "nbformat": 4,
 "nbformat_minor": 5
}
