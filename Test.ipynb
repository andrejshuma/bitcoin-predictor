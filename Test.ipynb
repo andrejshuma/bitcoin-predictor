{
 "cells": [
  {
   "metadata": {},
   "cell_type": "code",
   "outputs": [],
   "execution_count": null,
   "source": "",
   "id": "f5c6ea8ab0f6578a"
  }
 ],
 "metadata": {
  "kernelspec": {
   "display_name": "Pythong (btc-env)",
   "language": "python",
   "name": "btc-env"
  },
  "language_info": {
   "codemirror_mode": {
    "name": "ipython",
    "version": 2
   },
   "file_extension": ".py",
   "mimetype": "text/x-python",
   "name": "python",
   "nbconvert_exporter": "python",
   "pygments_lexer": "ipython2",
   "version": "2.7.6"
  }
 },
 "nbformat": 4,
 "nbformat_minor": 5
}
