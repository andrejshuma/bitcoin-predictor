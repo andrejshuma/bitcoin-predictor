{
 "cells": [
  {
   "cell_type": "code",
   "id": "initial_id",
   "metadata": {
    "collapsed": true,
    "ExecuteTime": {
     "end_time": "2025-10-13T11:12:37.644054Z",
     "start_time": "2025-10-13T11:12:37.271131Z"
    }
   },
   "source": [
    "# ----------------------------\n",
    "# Imports\n",
    "# ----------------------------\n",
    "import pandas as pd\n",
    "import numpy as np\n",
    "from collections import Counter\n",
    "from sklearn.metrics import accuracy_score\n",
    "import joblib\n",
    "from tensorflow.keras.models import load_model\n",
    "from sklearn.model_selection import train_test_split\n",
    "\n",
    "# ----------------------------\n",
    "# Load saved models and preprocessing objects\n",
    "# ----------------------------\n",
    "forest_model = joblib.load('forest_model.pkl')\n",
    "xgb_model = joblib.load('xgb_model.pkl')\n",
    "label_encoder = joblib.load('label_encoder.pkl')\n",
    "scaler_tabular = joblib.load('scaler_tabular.pkl')\n",
    "scaler_long = joblib.load('scaler_long.pkl')\n",
    "neural_model = load_model('neural_model.keras')  # use .keras if saved in new format\n",
    "\n",
    "# ----------------------------\n",
    "# Load your data\n",
    "# ----------------------------\n",
    "%store -r export_df\n",
    "df = export_df\n",
    "\n",
    "%store -r export_df_long\n",
    "df_long = export_df_long\n",
    "\n",
    "# ----------------------------\n",
    "# Prepare test data\n",
    "# ----------------------------\n",
    "x = df.drop(columns=['activity'])\n",
    "y = df['activity']\n",
    "\n",
    "x_long = df_long.drop(columns=['activity'])\n",
    "y_long = df_long['activity']\n",
    "\n",
    "# Split data (keeping last 100 rows for evaluation)\n",
    "x_train, x_test, y_train, y_test = train_test_split(\n",
    "    x, y, test_size=0.1, random_state=42, shuffle=False\n",
    ")\n",
    "\n",
    "# Last 100 rows for consistent ensemble evaluation\n",
    "x_test_subset = x_test.tail(100)\n",
    "y_test_subset = y_test.tail(100)\n",
    "x_long_test_subset = x_long.tail(100)\n",
    "y_long_test_subset = y_long.tail(100)\n",
    "\n",
    "# Scale features\n",
    "x_test_scaled_subset = scaler_tabular.transform(x_test_subset)\n",
    "x_long_test_scaled_subset = scaler_long.transform(x_long_test_subset)\n",
    "\n",
    "# Encode labels numerically\n",
    "y_test_encoded_subset = label_encoder.transform(y_test_subset)\n",
    "y_long_test_encoded_subset = label_encoder.transform(y_long_test_subset)\n",
    "\n",
    "# ----------------------------\n",
    "# Make predictions\n",
    "# ----------------------------\n",
    "# Random Forest\n",
    "predictions_rf = forest_model.predict(x_test_scaled_subset)\n",
    "\n",
    "# XGBoost\n",
    "proba_xgb = xgb_model.predict_proba(x_test_scaled_subset)\n",
    "predictions_xgb = np.argmax(proba_xgb, axis=1)\n",
    "\n",
    "# Neural Network\n",
    "y_pred_probs_nn = neural_model.predict(x_long_test_scaled_subset)\n",
    "predictions_neural = np.argmax(y_pred_probs_nn, axis=1)\n",
    "\n",
    "# Random Forest (already outputs strings if trained on original labels)\n",
    "# If you trained RF on encoded labels, decode:\n",
    "predictions_rf_decoded = label_encoder.inverse_transform(predictions_rf)  # only if RF trained on encoded\n",
    "\n",
    "# XGBoost (currently outputs integers)\n",
    "predictions_xgb_decoded = label_encoder.inverse_transform(predictions_xgb)\n",
    "\n",
    "# NeuralNet\n",
    "predictions_neural_decoded = label_encoder.inverse_transform(predictions_neural)\n",
    "\n",
    "# Now all three are string labels, same type as y_test_subset\n"
   ],
   "outputs": [
    {
     "name": "stdout",
     "output_type": "stream",
     "text": [
      "\u001B[1m4/4\u001B[0m \u001B[32m━━━━━━━━━━━━━━━━━━━━\u001B[0m\u001B[37m\u001B[0m \u001B[1m0s\u001B[0m 16ms/step\n"
     ]
    },
    {
     "name": "stderr",
     "output_type": "stream",
     "text": [
      "C:\\Users\\borja\\PycharmProjects\\bitcoin-predictor\\venv\\Lib\\site-packages\\keras\\src\\saving\\saving_lib.py:797: UserWarning: Skipping variable loading for optimizer 'rmsprop', because it has 10 variables whereas the saved optimizer has 18 variables. \n",
      "  saveable.load_own_variables(weights_store.get(inner_path))\n"
     ]
    }
   ],
   "execution_count": 15
  },
  {
   "metadata": {
    "ExecuteTime": {
     "end_time": "2025-10-13T11:12:37.709667Z",
     "start_time": "2025-10-13T11:12:37.705318Z"
    }
   },
   "cell_type": "code",
   "source": [
    "# ----------------------------\n",
    "# Combine predictions into one DataFrame\n",
    "# ----------------------------\n",
    "results_full = x_test_subset.copy()\n",
    "results_full['Actual'] = y_test_subset.values\n",
    "results_full['RandomForest_Pred'] = predictions_rf_decoded\n",
    "results_full['XGBoost_Pred'] = predictions_xgb_decoded\n",
    "results_full['NeuralNet_Pred'] = predictions_neural_decoded"
   ],
   "id": "41d1a950bbbfd1f9",
   "outputs": [],
   "execution_count": 16
  },
  {
   "metadata": {
    "ExecuteTime": {
     "end_time": "2025-10-13T11:12:37.811147Z",
     "start_time": "2025-10-13T11:12:37.783306Z"
    }
   },
   "cell_type": "code",
   "source": [
    "\n",
    "# ----------------------------\n",
    "# Apply majority voting\n",
    "# ----------------------------\n",
    "def majority_vote(row):\n",
    "    preds = [row['RandomForest_Pred'], row['XGBoost_Pred'], row['NeuralNet_Pred']]\n",
    "    return Counter(preds).most_common(1)[0][0]\n",
    "\n",
    "results_full['Voted_Pred'] = results_full.apply(majority_vote, axis=1)\n",
    "\n",
    "# ----------------------------\n",
    "# Compute accuracy metrics\n",
    "# ----------------------------\n",
    "acc_rf = accuracy_score(results_full['Actual'], results_full['RandomForest_Pred'])\n",
    "acc_xgb = accuracy_score(results_full['Actual'], results_full['XGBoost_Pred'])\n",
    "acc_nn = accuracy_score(results_full['Actual'], results_full['NeuralNet_Pred'])\n",
    "acc_vote = accuracy_score(results_full['Actual'], results_full['Voted_Pred'])\n",
    "\n",
    "print(f\"RandomForest Accuracy: {acc_rf:.4f}\")\n",
    "print(f\"XGBoost Accuracy:      {acc_xgb:.4f}\")\n",
    "print(f\"NeuralNet Accuracy:    {acc_nn:.4f}\")\n",
    "print(f\"Voting Accuracy:       {acc_vote:.4f}\")\n",
    "\n",
    "# ----------------------------\n",
    "# Agreement among models\n",
    "# ----------------------------\n",
    "results_full['Agreement'] = (\n",
    "    (results_full['RandomForest_Pred'] == results_full['XGBoost_Pred']) &\n",
    "    (results_full['XGBoost_Pred'] == results_full['NeuralNet_Pred'])\n",
    ")\n",
    "agreement_rate = results_full['Agreement'].mean()\n",
    "print(f\"Models fully agree on {agreement_rate*100:.2f}% of cases\")\n",
    "\n",
    "# ----------------------------\n",
    "# Per-model correctness\n",
    "# ----------------------------\n",
    "results_full['RF_Correct'] = results_full['RandomForest_Pred'] == results_full['Actual']\n",
    "results_full['XGB_Correct'] = results_full['XGBoost_Pred'] == results_full['Actual']\n",
    "results_full['NN_Correct'] = results_full['NeuralNet_Pred'] == results_full['Actual']\n",
    "results_full['Vote_Correct'] = results_full['Voted_Pred'] == results_full['Actual']\n",
    "\n",
    "# ----------------------------\n",
    "# Save results to CSV\n",
    "# ----------------------------\n",
    "results_full.to_csv(\"model_voting_analysis.csv\", index=False)\n",
    "print(\"✅ Saved results with voting as 'model_voting_analysis.csv'\")\n",
    "\n",
    "# ----------------------------\n",
    "# Prediction correlation matrix\n",
    "# ----------------------------\n",
    "pred_matrix = results_full[['RandomForest_Pred', 'XGBoost_Pred', 'NeuralNet_Pred']]\n",
    "print(\"\\nPrediction Correlation Matrix (RF vs XGB):\")\n",
    "print(pd.crosstab(pred_matrix['RandomForest_Pred'], pred_matrix['XGBoost_Pred'], normalize='index'))"
   ],
   "id": "6b4a23673c6dc78f",
   "outputs": [
    {
     "name": "stdout",
     "output_type": "stream",
     "text": [
      "RandomForest Accuracy: 0.6800\n",
      "XGBoost Accuracy:      0.7000\n",
      "NeuralNet Accuracy:    0.6800\n",
      "Voting Accuracy:       0.6900\n",
      "Models fully agree on 73.00% of cases\n",
      "✅ Saved results with voting as 'model_voting_analysis.csv'\n",
      "\n",
      "Prediction Correlation Matrix (RF vs XGB):\n",
      "XGBoost_Pred            Buy      Sell\n",
      "RandomForest_Pred                    \n",
      "Buy                0.884615  0.115385\n",
      "Sell               0.208333  0.791667\n"
     ]
    }
   ],
   "execution_count": 17
  }
 ],
 "metadata": {
  "kernelspec": {
   "display_name": "Python 3",
   "language": "python",
   "name": "python3"
  },
  "language_info": {
   "codemirror_mode": {
    "name": "ipython",
    "version": 2
   },
   "file_extension": ".py",
   "mimetype": "text/x-python",
   "name": "python",
   "nbconvert_exporter": "python",
   "pygments_lexer": "ipython2",
   "version": "2.7.6"
  }
 },
 "nbformat": 4,
 "nbformat_minor": 5
}
