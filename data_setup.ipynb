{
 "cells": [
  {
   "metadata": {
    "ExecuteTime": {
     "end_time": "2025-09-29T14:13:17.839446Z",
     "start_time": "2025-09-29T14:13:08.425754Z"
    }
   },
   "cell_type": "code",
   "source": [
    "import ccxt\n",
    "import time\n",
    "import pandas as pd\n",
    "import numpy as np\n",
    "from datetime import datetime, timedelta, timezone\n",
    "\n",
    "binance = ccxt.binance()\n",
    "\n",
    "symbol = 'BTC/USDT'\n",
    "timeframe = '5m'\n",
    "limit = 1000\n",
    "\n",
    "since_dt = datetime.now(timezone.utc) - timedelta(days=4*3 + 3) # 4 weeks (+3 to avoid weekends if i fetch index, like the dxy, where they dont work on weekends, and i just remove where dxy is Nan)\n",
    "since = int(since_dt.timestamp() * 1000) # second in milliseconds\n",
    "\n",
    "all_candles = []\n",
    "\n",
    "while True:\n",
    "    candles = binance.fetch_ohlcv(symbol, timeframe=timeframe, since=since, limit=limit) # binance api from ccxt\n",
    "    if not candles:\n",
    "        break\n",
    "    all_candles += candles\n",
    "\n",
    "    since = candles[-1][0] + 1 # update since to last candle timestamp + 1 ms\n",
    "    time.sleep(0.5)  # avoid hitting rate limits with api\n",
    "\n",
    "# Convert to DataFrame (table)\n",
    "df = pd.DataFrame(all_candles, columns=['timestamp', 'open', 'high', 'low', 'close', 'volume'])\n",
    "df['timestamp'] = pd.to_datetime(df['timestamp'], unit='ms')"
   ],
   "id": "f5c6ea8ab0f6578a",
   "outputs": [],
   "execution_count": 1
  },
  {
   "metadata": {
    "ExecuteTime": {
     "end_time": "2025-09-29T14:13:18.811579Z",
     "start_time": "2025-09-29T14:13:17.853131Z"
    }
   },
   "cell_type": "code",
   "source": [
    "import yfinance as yf\n",
    "\n",
    "dxy_daily = yf.download(\n",
    "    'DX-Y.NYB',\n",
    "    start=df['timestamp'].min().date() - pd.Timedelta(days=3),  # to avoid weekends\n",
    "    end=df['timestamp'].max().date() + pd.Timedelta(days=3),\n",
    "    interval='1d',\n",
    "    progress=False,\n",
    "    auto_adjust=False\n",
    ")\n",
    "\n",
    "# Reset index to move 'Date' to a column\n",
    "dxy_daily = dxy_daily.reset_index(drop=False)\n",
    "\n",
    "# Because its multilevel, make it one level (like df)\n",
    "if isinstance(dxy_daily.columns, pd.MultiIndex):\n",
    "    dxy_daily.columns = [col[0] for col in dxy_daily.columns]\n",
    "\n",
    "dxy_daily.rename(columns={'Date': 'date'}, inplace=True)\n",
    "dxy_daily.rename(columns={'Close': 'dxy_close'}, inplace=True)\n",
    "\n",
    "dxy_daily[\"date\"] = pd.to_datetime(dxy_daily[\"date\"]).dt.date\n",
    "df[\"date\"] = pd.to_datetime(df[\"timestamp\"]).dt.date\n",
    "\n",
    "print(dxy_daily)\n",
    "\n",
    "df = pd.merge(df, dxy_daily[[\"date\", \"dxy_close\"]], on=\"date\", how=\"left\")\n",
    "\n",
    "df['dxy_close'] = df['dxy_close'].ffill()\n",
    "df = df.dropna(subset=['dxy_close']).reset_index(drop=True)\n",
    "df.rename(columns={'dxy_close': 'dxy'}, inplace=True)\n",
    "\n",
    "print(dxy_daily)"
   ],
   "id": "a667fa3fca958d12",
   "outputs": [
    {
     "name": "stdout",
     "output_type": "stream",
     "text": [
      "          date  Adj Close  dxy_close       High        Low       Open  Volume\n",
      "0   2025-09-11  97.540001  97.540001  98.089996  97.470001  97.790001       0\n",
      "1   2025-09-12  97.550003  97.550003  97.860001  97.489998  97.519997       0\n",
      "2   2025-09-15  97.300003  97.300003  97.699997  97.269997  97.629997       0\n",
      "3   2025-09-16  96.629997  96.629997  97.389999  96.559998  97.339996       0\n",
      "4   2025-09-17  96.870003  96.870003  97.070000  96.220001  96.620003       0\n",
      "5   2025-09-18  97.349998  97.349998  97.599998  96.839996  96.930000       0\n",
      "6   2025-09-19  97.639999  97.639999  97.809998  97.269997  97.339996       0\n",
      "7   2025-09-22  97.330002  97.330002  97.820000  97.309998  97.650002       0\n",
      "8   2025-09-23  97.260002  97.260002  97.459999  97.199997  97.320000       0\n",
      "9   2025-09-24  97.870003  97.870003  97.919998  97.220001  97.239998       0\n",
      "10  2025-09-25  98.550003  98.550003  98.610001  97.739998  97.820000       0\n",
      "11  2025-09-26  98.150002  98.150002  98.529999  98.129997  98.500000       0\n",
      "12  2025-09-29  97.865997  97.865997  98.181000  97.774002  98.165001       0\n",
      "          date  Adj Close  dxy_close       High        Low       Open  Volume\n",
      "0   2025-09-11  97.540001  97.540001  98.089996  97.470001  97.790001       0\n",
      "1   2025-09-12  97.550003  97.550003  97.860001  97.489998  97.519997       0\n",
      "2   2025-09-15  97.300003  97.300003  97.699997  97.269997  97.629997       0\n",
      "3   2025-09-16  96.629997  96.629997  97.389999  96.559998  97.339996       0\n",
      "4   2025-09-17  96.870003  96.870003  97.070000  96.220001  96.620003       0\n",
      "5   2025-09-18  97.349998  97.349998  97.599998  96.839996  96.930000       0\n",
      "6   2025-09-19  97.639999  97.639999  97.809998  97.269997  97.339996       0\n",
      "7   2025-09-22  97.330002  97.330002  97.820000  97.309998  97.650002       0\n",
      "8   2025-09-23  97.260002  97.260002  97.459999  97.199997  97.320000       0\n",
      "9   2025-09-24  97.870003  97.870003  97.919998  97.220001  97.239998       0\n",
      "10  2025-09-25  98.550003  98.550003  98.610001  97.739998  97.820000       0\n",
      "11  2025-09-26  98.150002  98.150002  98.529999  98.129997  98.500000       0\n",
      "12  2025-09-29  97.865997  97.865997  98.181000  97.774002  98.165001       0\n"
     ]
    }
   ],
   "execution_count": 2
  },
  {
   "metadata": {
    "ExecuteTime": {
     "end_time": "2025-09-29T14:13:19.705910Z",
     "start_time": "2025-09-29T14:13:19.680448Z"
    }
   },
   "cell_type": "code",
   "source": [
    "import ta\n",
    "from ta.momentum import RSIIndicator\n",
    "from ta.trend import MACD\n",
    "\n",
    "# Short-term (~30min)\n",
    "df['rsi_6'] = RSIIndicator(df['close'], window=6).rsi()\n",
    "\n",
    "# Classic (~1hour)\n",
    "df['rsi_12'] = RSIIndicator(df['close'], window=12).rsi()\n",
    "\n",
    "macd_indicator = MACD(close=df['close'], window_slow=26, window_fast=12, window_sign=9)\n",
    "\n",
    "df['macd'] = macd_indicator.macd()           # MACD line\n",
    "df['macd_signal'] = macd_indicator.macd_signal() # Signal line\n",
    "df['macd_hist'] = macd_indicator.macd_diff()    # Histogram\n",
    "\n"
   ],
   "id": "3b7c5992a86f4174",
   "outputs": [],
   "execution_count": 3
  },
  {
   "metadata": {
    "ExecuteTime": {
     "end_time": "2025-09-29T14:13:19.725069Z",
     "start_time": "2025-09-29T14:13:19.718140Z"
    }
   },
   "cell_type": "code",
   "source": [
    "\n",
    "# df['ema_9'] = df['close'].ewm(span=9, adjust=False).mean()\n",
    "\n",
    "df['ema_21'] = df['close'].ewm(span=21, adjust=False).mean()\n",
    "\n",
    "df['sma_50'] = df['close'].rolling(window=50).mean()\n",
    "\n",
    "df.dropna(subset=['ema_21', 'sma_50'], inplace=True)\n",
    "\n",
    "# potential indicator to experiment with\n",
    "# ema_short - sma_long for crossovers\n",
    "# close / sma_50 - 1 for capturing trends"
   ],
   "id": "e23ebae3473cce30",
   "outputs": [],
   "execution_count": 4
  },
  {
   "metadata": {
    "ExecuteTime": {
     "end_time": "2025-09-29T14:13:19.941856Z",
     "start_time": "2025-09-29T14:13:19.783072Z"
    }
   },
   "cell_type": "code",
   "source": [
    "from utils import buy_col, sell_col, define_activity\n",
    "\n",
    "df['next_high'] = df['high'].shift(-1)\n",
    "df['next_low'] = df['low'].shift(-1)\n",
    "\n",
    "df['buy_index'] = df.apply(buy_col, axis=1)\n",
    "df['sell_index'] = df.apply(sell_col, axis=1)\n",
    "\n",
    "df['signal'] = df['buy_index'] - df['sell_index']\n",
    "scale = df['signal'].abs().median()\n",
    "df['signal_scaled'] = 0.5 * (np.tanh( (df['buy_index'] - df['sell_index']) / scale ) + 1)\n",
    "\n",
    "df['activity'] = df.apply(define_activity, axis=1)\n",
    "\n",
    "df.dropna(subset=['buy_index','sell_index'], inplace=True)\n"
   ],
   "id": "4306f23ed7100fd0",
   "outputs": [],
   "execution_count": 5
  },
  {
   "metadata": {
    "ExecuteTime": {
     "end_time": "2025-09-29T14:13:19.986882Z",
     "start_time": "2025-09-29T14:13:19.960249Z"
    }
   },
   "cell_type": "code",
   "source": [
    "print(df)\n",
    "\n",
    "# export_df = df[['dxy', 'rsi_6', 'rsi_12', 'ema_21', 'sma_50', 'activity']]\n",
    "export_df = df.drop(columns=['timestamp', 'open', 'high', 'low', 'close', 'volume', 'date', 'next_high', 'next_low', 'buy_index', 'sell_index', 'signal', 'signal_scaled'])\n",
    "print(export_df)\n",
    "\n",
    "%store export_df"
   ],
   "id": "9950aa6671e2ccd3",
   "outputs": [
    {
     "name": "stdout",
     "output_type": "stream",
     "text": [
      "               timestamp       open       high        low      close  \\\n",
      "49   2025-09-15 04:05:00  115436.98  115436.99  115400.00  115421.75   \n",
      "50   2025-09-15 04:10:00  115421.75  115506.85  115405.81  115497.99   \n",
      "51   2025-09-15 04:15:00  115498.00  115627.91  115498.00  115627.91   \n",
      "52   2025-09-15 04:20:00  115627.91  116168.26  115627.90  115930.59   \n",
      "53   2025-09-15 04:25:00  115930.59  116052.00  115930.59  115962.44   \n",
      "...                  ...        ...        ...        ...        ...   \n",
      "4197 2025-09-29 13:45:00  113299.99  113490.00  113197.50  113334.50   \n",
      "4198 2025-09-29 13:50:00  113334.51  113401.90  113079.23  113217.01   \n",
      "4199 2025-09-29 13:55:00  113217.01  113350.01  113100.00  113227.29   \n",
      "4200 2025-09-29 14:00:00  113227.29  113437.04  113220.21  113419.01   \n",
      "4201 2025-09-29 14:05:00  113419.01  113520.00  113326.72  113519.99   \n",
      "\n",
      "         volume        date        dxy      rsi_6     rsi_12  ...   macd_hist  \\\n",
      "49     10.38610  2025-09-15  97.300003  42.429678  51.461756  ...  -13.986301   \n",
      "50     11.80765  2025-09-15  97.300003  60.781883  58.708911  ...  -10.567554   \n",
      "51     23.07528  2025-09-15  97.300003  76.258415  67.679859  ...   -0.110849   \n",
      "52    345.90967  2025-09-15  97.300003  88.711980  79.177542  ...   25.234346   \n",
      "53     68.67020  2025-09-15  97.300003  89.413202  79.994502  ...   41.241470   \n",
      "...         ...         ...        ...        ...        ...  ...         ...   \n",
      "4197  307.51564  2025-09-29  97.865997  92.370356  84.874893  ...  124.628783   \n",
      "4198  155.49043  2025-09-29  97.865997  82.266358  78.471314  ...  134.448938   \n",
      "4199  170.12046  2025-09-29  97.865997  82.467718  78.625245  ...  133.308936   \n",
      "4200  124.70836  2025-09-29  97.865997  86.020195  81.339737  ...  136.634319   \n",
      "4201  220.73565  2025-09-29  97.865997  87.607307  82.608774  ...  136.481964   \n",
      "\n",
      "             ema_21       sma_50  next_high   next_low  buy_index  sell_index  \\\n",
      "49    115416.585837  115266.7698  115506.85  115405.81   0.000605   -0.000050   \n",
      "50    115423.986215  115273.4432  115627.91  115498.00   0.001048   -0.000799   \n",
      "51    115442.524741  115284.5574  116168.26  115627.90   0.004673   -0.001125   \n",
      "52    115486.894310  115300.9522  116052.00  115930.59  -0.001001   -0.002618   \n",
      "53    115530.125737  115320.4076  116064.00  115962.44   0.000103   -0.000275   \n",
      "...             ...          ...        ...        ...        ...         ...   \n",
      "4197  112349.479843  112158.9510  113401.90  113079.23  -0.000776    0.001045   \n",
      "4198  112428.346221  112182.2506  113350.01  113100.00  -0.000458   -0.000184   \n",
      "4199  112500.977474  112204.2438  113437.04  113220.21   0.000768   -0.001063   \n",
      "4200  112584.434976  112231.1438  113520.00  113326.72   0.000731   -0.000941   \n",
      "4201  112669.485433  112259.3256  113539.64  113489.01   0.000173   -0.001432   \n",
      "\n",
      "        signal  signal_scaled     activity  \n",
      "49    0.000656       0.898266   Strong Buy  \n",
      "50    0.001847       0.997843   Strong Buy  \n",
      "51    0.005798       1.000000   Strong Buy  \n",
      "52    0.001617       0.995380   Strong Buy  \n",
      "53    0.000378       0.778410          Buy  \n",
      "...        ...            ...          ...  \n",
      "4197 -0.001821       0.002350  Strong Sell  \n",
      "4198 -0.000274       0.286983         Sell  \n",
      "4199  0.001831       0.997723   Strong Buy  \n",
      "4200  0.001672       0.996150   Strong Buy  \n",
      "4201  0.001605       0.995194   Strong Buy  \n",
      "\n",
      "[4153 rows x 22 columns]\n",
      "            dxy      rsi_6     rsi_12        macd  macd_signal   macd_hist  \\\n",
      "49    97.300003  42.429678  51.461756   46.928055    60.914355  -13.986301   \n",
      "50    97.300003  60.781883  58.708911   47.704913    58.272467  -10.567554   \n",
      "51    97.300003  76.258415  67.679859   58.133906    58.244755   -0.110849   \n",
      "52    97.300003  88.711980  79.177542   89.787688    64.553341   25.234346   \n",
      "53    97.300003  89.413202  79.994502  116.105179    74.863709   41.241470   \n",
      "...         ...        ...        ...         ...          ...         ...   \n",
      "4197  97.865997  92.370356  84.874893  190.074830    65.446047  124.628783   \n",
      "4198  97.865997  82.266358  78.471314  233.507220    99.058282  134.448938   \n",
      "4199  97.865997  82.467718  78.625245  265.694451   132.385516  133.308936   \n",
      "4200  97.865997  86.020195  81.339737  303.178414   166.544095  136.634319   \n",
      "4201  97.865997  87.607307  82.608774  337.146551   200.664586  136.481964   \n",
      "\n",
      "             ema_21       sma_50     activity  \n",
      "49    115416.585837  115266.7698   Strong Buy  \n",
      "50    115423.986215  115273.4432   Strong Buy  \n",
      "51    115442.524741  115284.5574   Strong Buy  \n",
      "52    115486.894310  115300.9522   Strong Buy  \n",
      "53    115530.125737  115320.4076          Buy  \n",
      "...             ...          ...          ...  \n",
      "4197  112349.479843  112158.9510  Strong Sell  \n",
      "4198  112428.346221  112182.2506         Sell  \n",
      "4199  112500.977474  112204.2438   Strong Buy  \n",
      "4200  112584.434976  112231.1438   Strong Buy  \n",
      "4201  112669.485433  112259.3256   Strong Buy  \n",
      "\n",
      "[4153 rows x 9 columns]\n",
      "Stored 'export_df' (DataFrame)\n"
     ]
    }
   ],
   "execution_count": 6
  }
 ],
 "metadata": {
  "kernelspec": {
   "display_name": "Pythong (btc-env)",
   "language": "python",
   "name": "btc-env"
  },
  "language_info": {
   "codemirror_mode": {
    "name": "ipython",
    "version": 2
   },
   "file_extension": ".py",
   "mimetype": "text/x-python",
   "name": "python",
   "nbconvert_exporter": "python",
   "pygments_lexer": "ipython2",
   "version": "2.7.6"
  }
 },
 "nbformat": 4,
 "nbformat_minor": 5
}
