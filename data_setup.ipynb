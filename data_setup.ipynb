{
 "cells": [
  {
   "metadata": {
    "ExecuteTime": {
     "end_time": "2025-09-30T07:44:21.064908Z",
     "start_time": "2025-09-30T07:44:10.480384Z"
    }
   },
   "cell_type": "code",
   "source": [
    "import ccxt\n",
    "import time\n",
    "import pandas as pd\n",
    "import numpy as np\n",
    "from datetime import datetime, timedelta, timezone\n",
    "\n",
    "binance = ccxt.binance()\n",
    "\n",
    "symbol = 'BTC/USDT'\n",
    "timeframe = '5m'\n",
    "limit = 1000\n",
    "\n",
    "since_dt = datetime.now(timezone.utc) - timedelta(days=4*3 + 3) # 4 weeks (+3 to avoid weekends if i fetch index, like the dxy, where they dont work on weekends, and i just remove where dxy is Nan)\n",
    "since = int(since_dt.timestamp() * 1000) # second in milliseconds\n",
    "\n",
    "all_candles = []\n",
    "\n",
    "while True:\n",
    "    candles = binance.fetch_ohlcv(symbol, timeframe=timeframe, since=since, limit=limit) # binance api from ccxt\n",
    "    if not candles:\n",
    "        break\n",
    "    all_candles += candles\n",
    "\n",
    "    since = candles[-1][0] + 1 # update since to last candle timestamp + 1 ms\n",
    "    time.sleep(0.5)  # avoid hitting rate limits with api\n",
    "\n",
    "# Convert to DataFrame (table)\n",
    "df = pd.DataFrame(all_candles, columns=['timestamp', 'open', 'high', 'low', 'close', 'volume'])\n",
    "df['timestamp'] = pd.to_datetime(df['timestamp'], unit='ms')"
   ],
   "id": "f5c6ea8ab0f6578a",
   "outputs": [],
   "execution_count": 7
  },
  {
   "metadata": {
    "ExecuteTime": {
     "end_time": "2025-09-30T07:44:21.377435Z",
     "start_time": "2025-09-30T07:44:21.072125Z"
    }
   },
   "cell_type": "code",
   "source": [
    "import yfinance as yf\n",
    "\n",
    "dxy_daily = yf.download(\n",
    "    'DX-Y.NYB',\n",
    "    start=df['timestamp'].min().date() - pd.Timedelta(days=3),  # to avoid weekends\n",
    "    end=df['timestamp'].max().date() + pd.Timedelta(days=3),\n",
    "    interval='1d',\n",
    "    progress=False,\n",
    "    auto_adjust=False\n",
    ")\n",
    "\n",
    "# Reset index to move 'Date' to a column\n",
    "dxy_daily = dxy_daily.reset_index(drop=False)\n",
    "\n",
    "# Because its multilevel, make it one level (like df)\n",
    "if isinstance(dxy_daily.columns, pd.MultiIndex):\n",
    "    dxy_daily.columns = [col[0] for col in dxy_daily.columns]\n",
    "\n",
    "dxy_daily.rename(columns={'Date': 'date'}, inplace=True)\n",
    "dxy_daily.rename(columns={'Close': 'dxy_close'}, inplace=True)\n",
    "\n",
    "dxy_daily[\"date\"] = pd.to_datetime(dxy_daily[\"date\"]).dt.date\n",
    "df[\"date\"] = pd.to_datetime(df[\"timestamp\"]).dt.date\n",
    "\n",
    "print(dxy_daily)\n",
    "\n",
    "df = pd.merge(df, dxy_daily[[\"date\", \"dxy_close\"]], on=\"date\", how=\"left\")\n",
    "\n",
    "df['dxy_close'] = df['dxy_close'].ffill()\n",
    "df = df.dropna(subset=['dxy_close']).reset_index(drop=True)\n",
    "df.rename(columns={'dxy_close': 'dxy'}, inplace=True)\n",
    "\n",
    "print(dxy_daily)"
   ],
   "id": "a667fa3fca958d12",
   "outputs": [
    {
     "name": "stdout",
     "output_type": "stream",
     "text": [
      "          date  Adj Close  dxy_close       High        Low       Open  Volume\n",
      "0   2025-09-12  97.550003  97.550003  97.860001  97.489998  97.519997       0\n",
      "1   2025-09-15  97.300003  97.300003  97.699997  97.269997  97.629997       0\n",
      "2   2025-09-16  96.629997  96.629997  97.389999  96.559998  97.339996       0\n",
      "3   2025-09-17  96.870003  96.870003  97.070000  96.220001  96.620003       0\n",
      "4   2025-09-18  97.349998  97.349998  97.599998  96.839996  96.930000       0\n",
      "5   2025-09-19  97.639999  97.639999  97.809998  97.269997  97.339996       0\n",
      "6   2025-09-22  97.330002  97.330002  97.820000  97.309998  97.650002       0\n",
      "7   2025-09-23  97.260002  97.260002  97.459999  97.199997  97.320000       0\n",
      "8   2025-09-24  97.870003  97.870003  97.919998  97.220001  97.239998       0\n",
      "9   2025-09-25  98.550003  98.550003  98.610001  97.739998  97.820000       0\n",
      "10  2025-09-26  98.150002  98.150002  98.529999  98.129997  98.500000       0\n",
      "11  2025-09-29  97.910004  97.910004  98.180000  97.769997  98.169998       0\n",
      "12  2025-09-30  97.778999  97.778999  98.044998  97.748001  97.910004       0\n",
      "          date  Adj Close  dxy_close       High        Low       Open  Volume\n",
      "0   2025-09-12  97.550003  97.550003  97.860001  97.489998  97.519997       0\n",
      "1   2025-09-15  97.300003  97.300003  97.699997  97.269997  97.629997       0\n",
      "2   2025-09-16  96.629997  96.629997  97.389999  96.559998  97.339996       0\n",
      "3   2025-09-17  96.870003  96.870003  97.070000  96.220001  96.620003       0\n",
      "4   2025-09-18  97.349998  97.349998  97.599998  96.839996  96.930000       0\n",
      "5   2025-09-19  97.639999  97.639999  97.809998  97.269997  97.339996       0\n",
      "6   2025-09-22  97.330002  97.330002  97.820000  97.309998  97.650002       0\n",
      "7   2025-09-23  97.260002  97.260002  97.459999  97.199997  97.320000       0\n",
      "8   2025-09-24  97.870003  97.870003  97.919998  97.220001  97.239998       0\n",
      "9   2025-09-25  98.550003  98.550003  98.610001  97.739998  97.820000       0\n",
      "10  2025-09-26  98.150002  98.150002  98.529999  98.129997  98.500000       0\n",
      "11  2025-09-29  97.910004  97.910004  98.180000  97.769997  98.169998       0\n",
      "12  2025-09-30  97.778999  97.778999  98.044998  97.748001  97.910004       0\n"
     ]
    }
   ],
   "execution_count": 8
  },
  {
   "metadata": {
    "ExecuteTime": {
     "end_time": "2025-09-30T07:44:21.392041Z",
     "start_time": "2025-09-30T07:44:21.386666Z"
    }
   },
   "cell_type": "code",
   "source": [
    "import ta\n",
    "from ta.momentum import RSIIndicator\n",
    "from ta.trend import MACD\n",
    "\n",
    "# Short-term (~30min)\n",
    "df['rsi_6'] = RSIIndicator(df['close'], window=6).rsi()\n",
    "\n",
    "# Classic (~1hour)\n",
    "df['rsi_12'] = RSIIndicator(df['close'], window=12).rsi()\n",
    "\n",
    "macd_indicator = MACD(close=df['close'], window_slow=26, window_fast=12, window_sign=9)\n",
    "\n",
    "df['macd'] = macd_indicator.macd()           # MACD line\n",
    "df['macd_signal'] = macd_indicator.macd_signal() # Signal line\n",
    "df['macd_hist'] = macd_indicator.macd_diff()    # Histogram\n",
    "\n"
   ],
   "id": "3b7c5992a86f4174",
   "outputs": [],
   "execution_count": 9
  },
  {
   "metadata": {
    "ExecuteTime": {
     "end_time": "2025-09-30T07:44:21.405698Z",
     "start_time": "2025-09-30T07:44:21.400589Z"
    }
   },
   "cell_type": "code",
   "source": [
    "\n",
    "# df['ema_9'] = df['close'].ewm(span=9, adjust=False).mean()\n",
    "\n",
    "df['ema_21'] = df['close'].ewm(span=21, adjust=False).mean()\n",
    "\n",
    "df['sma_50'] = df['close'].rolling(window=50).mean()\n",
    "\n",
    "df.dropna(subset=['ema_21', 'sma_50'], inplace=True)\n",
    "\n",
    "# potential indicator to experiment with\n",
    "# ema_short - sma_long for crossovers\n",
    "# close / sma_50 - 1 for capturing trends"
   ],
   "id": "e23ebae3473cce30",
   "outputs": [],
   "execution_count": 10
  },
  {
   "metadata": {
    "ExecuteTime": {
     "end_time": "2025-09-30T07:44:21.531746Z",
     "start_time": "2025-09-30T07:44:21.414939Z"
    }
   },
   "cell_type": "code",
   "source": [
    "from utils import buy_col, sell_col, define_activity\n",
    "\n",
    "df['next_high'] = df['high'].shift(-1)\n",
    "df['next_low'] = df['low'].shift(-1)\n",
    "\n",
    "df['buy_index'] = df.apply(buy_col, axis=1)\n",
    "df['sell_index'] = df.apply(sell_col, axis=1)\n",
    "\n",
    "df['signal'] = df['buy_index'] - df['sell_index']\n",
    "scale = df['signal'].abs().median()\n",
    "df['signal_scaled'] = 0.5 * (np.tanh( (df['buy_index'] - df['sell_index']) / scale ) + 1)\n",
    "\n",
    "df['activity'] = df.apply(define_activity, axis=1)\n",
    "\n",
    "df.dropna(subset=['buy_index','sell_index'], inplace=True)\n"
   ],
   "id": "4306f23ed7100fd0",
   "outputs": [],
   "execution_count": 11
  },
  {
   "metadata": {
    "ExecuteTime": {
     "end_time": "2025-09-30T07:44:21.554084Z",
     "start_time": "2025-09-30T07:44:21.541451Z"
    }
   },
   "cell_type": "code",
   "source": [
    "print(df)\n",
    "\n",
    "# export_df = df[['dxy', 'rsi_6', 'rsi_12', 'ema_21', 'sma_50', 'activity']]\n",
    "export_df = df.drop(columns=['timestamp', 'open', 'high', 'low', 'close', 'volume', 'date', 'next_high', 'next_low', 'buy_index', 'sell_index', 'signal', 'signal_scaled'])\n",
    "print(export_df)\n",
    "\n",
    "%store export_df"
   ],
   "id": "9950aa6671e2ccd3",
   "outputs": [
    {
     "name": "stdout",
     "output_type": "stream",
     "text": [
      "               timestamp       open       high        low      close  \\\n",
      "49   2025-09-15 11:50:00  115003.76  115110.00  115003.76  115109.99   \n",
      "50   2025-09-15 11:55:00  115110.00  115120.00  115048.08  115070.00   \n",
      "51   2025-09-15 12:00:00  115070.01  115074.51  114980.00  114991.99   \n",
      "52   2025-09-15 12:05:00  114991.99  114991.99  114880.00  114942.19   \n",
      "53   2025-09-15 12:10:00  114942.19  114942.20  114849.99  114885.24   \n",
      "...                  ...        ...        ...        ...        ...   \n",
      "4314 2025-09-30 07:15:00  113921.44  113921.45  113889.89  113889.89   \n",
      "4315 2025-09-30 07:20:00  113889.89  113926.43  113869.84  113911.50   \n",
      "4316 2025-09-30 07:25:00  113911.49  113994.61  113911.49  113952.52   \n",
      "4317 2025-09-30 07:30:00  113952.52  113952.52  113815.85  113815.86   \n",
      "4318 2025-09-30 07:35:00  113815.85  113838.00  113657.00  113658.27   \n",
      "\n",
      "        volume        date        dxy      rsi_6     rsi_12  ...  macd_hist  \\\n",
      "49    37.73943  2025-09-15  97.300003  62.042073  57.750950  ...  40.927433   \n",
      "50    52.50759  2025-09-15  97.300003  56.817640  55.176864  ...  36.360492   \n",
      "51    50.83956  2025-09-15  97.300003  47.461901  50.396592  ...  26.760626   \n",
      "52    90.96084  2025-09-15  97.300003  42.145623  47.528972  ...  16.248764   \n",
      "53    67.77347  2025-09-15  97.300003  36.530449  44.378700  ...   5.223000   \n",
      "...        ...         ...        ...        ...        ...  ...        ...   \n",
      "4314  11.21893  2025-09-30  97.778999  41.318937  41.531306  ...   7.718811   \n",
      "4315  28.17453  2025-09-30  97.778999  47.567674  44.318769  ...   8.454196   \n",
      "4316  46.86524  2025-09-30  97.778999  57.802929  49.321833  ...  11.613976   \n",
      "4317  56.67230  2025-09-30  97.778999  32.465955  37.180280  ...   4.762086   \n",
      "4318  83.29239  2025-09-30  97.778999  20.208374  28.388864  ...  -9.352296   \n",
      "\n",
      "             ema_21       sma_50  next_high   next_low  buy_index  sell_index  \\\n",
      "49    114975.319592  115072.3634  115120.00  115048.08   0.000087   -0.000385   \n",
      "50    114983.926902  115059.6092  115074.51  114980.00  -0.000395    0.000592   \n",
      "51    114984.659911  115044.7524  114991.99  114880.00  -0.000717    0.000870   \n",
      "52    114980.799010  115027.4638  114942.20  114849.99  -0.000433    0.000261   \n",
      "53    114972.111827  115015.7686  114978.20  114885.23   0.000313   -0.000307   \n",
      "...             ...          ...        ...        ...        ...         ...   \n",
      "4314  113954.715908  114103.5894  113926.43  113869.84   0.000044    0.000176   \n",
      "4315  113950.787189  114094.0592  113994.61  113911.49   0.000598   -0.000366   \n",
      "4316  113950.944718  114085.1094  113952.52  113815.85  -0.000369    0.000840   \n",
      "4317  113938.664289  114075.1766  113838.00  113657.00  -0.001005    0.001396   \n",
      "4318  113913.173899  114061.8206  113701.37  113596.37  -0.001200    0.000533   \n",
      "\n",
      "        signal  signal_scaled     activity  \n",
      "49    0.000472       0.828844   Strong Buy  \n",
      "50   -0.000987       0.035690  Strong Sell  \n",
      "51   -0.001587       0.004965  Strong Sell  \n",
      "52   -0.000694       0.089572  Strong Sell  \n",
      "53    0.000620       0.888062   Strong Buy  \n",
      "...        ...            ...          ...  \n",
      "4314 -0.000132       0.391258         Sell  \n",
      "4315  0.000964       0.961609   Strong Buy  \n",
      "4316 -0.001209       0.017330  Strong Sell  \n",
      "4317 -0.002401       0.000329  Strong Sell  \n",
      "4318 -0.001734       0.003046  Strong Sell  \n",
      "\n",
      "[4270 rows x 22 columns]\n",
      "            dxy      rsi_6     rsi_12       macd  macd_signal  macd_hist  \\\n",
      "49    97.300003  62.042073  57.750950  15.702564   -25.224870  40.927433   \n",
      "50    97.300003  56.817640  55.176864  20.225745   -16.134747  36.360492   \n",
      "51    97.300003  47.461901  50.396592  17.316035    -9.444590  26.760626   \n",
      "52    97.300003  42.145623  47.528972  10.866365    -5.382399  16.248764   \n",
      "53    97.300003  36.530449  44.378700   1.146351    -4.076649   5.223000   \n",
      "...         ...        ...        ...        ...          ...        ...   \n",
      "4314  97.778999  41.318937  41.531306 -51.897009   -59.615819   7.718811   \n",
      "4315  97.778999  47.567674  44.318769 -49.048074   -57.502270   8.454196   \n",
      "4316  97.778999  57.802929  49.321833 -42.984800   -54.598776  11.613976   \n",
      "4317  97.778999  32.465955  37.180280 -48.646169   -53.408255   4.762086   \n",
      "4318  97.778999  20.208374  28.388864 -65.098624   -55.746329  -9.352296   \n",
      "\n",
      "             ema_21       sma_50     activity  \n",
      "49    114975.319592  115072.3634   Strong Buy  \n",
      "50    114983.926902  115059.6092  Strong Sell  \n",
      "51    114984.659911  115044.7524  Strong Sell  \n",
      "52    114980.799010  115027.4638  Strong Sell  \n",
      "53    114972.111827  115015.7686   Strong Buy  \n",
      "...             ...          ...          ...  \n",
      "4314  113954.715908  114103.5894         Sell  \n",
      "4315  113950.787189  114094.0592   Strong Buy  \n",
      "4316  113950.944718  114085.1094  Strong Sell  \n",
      "4317  113938.664289  114075.1766  Strong Sell  \n",
      "4318  113913.173899  114061.8206  Strong Sell  \n",
      "\n",
      "[4270 rows x 9 columns]\n",
      "Stored 'export_df' (DataFrame)\n"
     ]
    }
   ],
   "execution_count": 12
  }
 ],
 "metadata": {
  "kernelspec": {
   "display_name": "Pythong (btc-env)",
   "language": "python",
   "name": "btc-env"
  },
  "language_info": {
   "codemirror_mode": {
    "name": "ipython",
    "version": 2
   },
   "file_extension": ".py",
   "mimetype": "text/x-python",
   "name": "python",
   "nbconvert_exporter": "python",
   "pygments_lexer": "ipython2",
   "version": "2.7.6"
  }
 },
 "nbformat": 4,
 "nbformat_minor": 5
}
