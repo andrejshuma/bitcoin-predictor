{
 "cells": [
  {
   "metadata": {
    "ExecuteTime": {
     "end_time": "2025-09-22T20:35:02.948075Z",
     "start_time": "2025-09-22T20:34:53.374599Z"
    }
   },
   "cell_type": "code",
   "source": [
    "import ccxt\n",
    "import time\n",
    "import pandas as pd\n",
    "import numpy as np\n",
    "from datetime import datetime, timedelta, timezone\n",
    "\n",
    "binance = ccxt.binance()\n",
    "\n",
    "symbol = 'BTC/USDT'\n",
    "timeframe = '5m'\n",
    "limit = 1000\n",
    "\n",
    "since_dt = datetime.now(timezone.utc) - timedelta(days=4*3 + 3) # 4 weeks (+3 to avoid weekends if i fetch index, like the dxy, where they dont work on weekends, and i just remove where dxy is Nan)\n",
    "since = int(since_dt.timestamp() * 1000) # second in milliseconds\n",
    "\n",
    "all_candles = []\n",
    "\n",
    "while True:\n",
    "    candles = binance.fetch_ohlcv(symbol, timeframe=timeframe, since=since, limit=limit) # binance api from ccxt\n",
    "    if not candles:\n",
    "        break\n",
    "    all_candles += candles\n",
    "\n",
    "    since = candles[-1][0] + 1 # update since to last candle timestamp + 1 ms\n",
    "    time.sleep(0.5)  # avoid hitting rate limits with api\n",
    "\n",
    "# Convert to DataFrame (table)\n",
    "df = pd.DataFrame(all_candles, columns=['timestamp', 'open', 'high', 'low', 'close', 'volume'])\n",
    "df['timestamp'] = pd.to_datetime(df['timestamp'], unit='ms')"
   ],
   "id": "f5c6ea8ab0f6578a",
   "outputs": [],
   "execution_count": 50
  },
  {
   "metadata": {
    "ExecuteTime": {
     "end_time": "2025-09-22T20:35:03.414151Z",
     "start_time": "2025-09-22T20:35:02.961486Z"
    }
   },
   "cell_type": "code",
   "source": [
    "import yfinance as yf\n",
    "\n",
    "dxy_daily = yf.download(\n",
    "    'DX-Y.NYB',\n",
    "    start=df['timestamp'].min().date() - pd.Timedelta(days=3),  # to avoid weekends\n",
    "    end=df['timestamp'].max().date() + pd.Timedelta(days=3),\n",
    "    interval='1d',\n",
    "    progress=False,\n",
    "    auto_adjust=False\n",
    ")\n",
    "\n",
    "# Reset index to move 'Date' to a column\n",
    "dxy_daily = dxy_daily.reset_index(drop=False)\n",
    "\n",
    "# Because its multilevel, make it one level (like df)\n",
    "if isinstance(dxy_daily.columns, pd.MultiIndex):\n",
    "    dxy_daily.columns = [col[0] for col in dxy_daily.columns]\n",
    "\n",
    "dxy_daily.rename(columns={'Date': 'date'}, inplace=True)\n",
    "dxy_daily.rename(columns={'Close': 'dxy_close'}, inplace=True)\n",
    "\n",
    "dxy_daily[\"date\"] = pd.to_datetime(dxy_daily[\"date\"]).dt.date\n",
    "df[\"date\"] = pd.to_datetime(df[\"timestamp\"]).dt.date\n",
    "\n",
    "print(dxy_daily)\n",
    "\n",
    "df = pd.merge(df, dxy_daily[[\"date\", \"dxy_close\"]], on=\"date\", how=\"left\")\n",
    "\n",
    "df['dxy_close'] = df['dxy_close'].ffill()\n",
    "df = df.dropna(subset=['dxy_close']).reset_index(drop=True)\n",
    "df.rename(columns={'dxy_close': 'dxy'}, inplace=True)\n",
    "\n",
    "print(dxy_daily)"
   ],
   "id": "a667fa3fca958d12",
   "outputs": [
    {
     "name": "stdout",
     "output_type": "stream",
     "text": [
      "          date  Adj Close  dxy_close       High        Low       Open  Volume\n",
      "0   2025-09-04  98.349998  98.349998  98.440002  98.080002  98.150002       0\n",
      "1   2025-09-05  97.769997  97.769997  98.260002  97.430000  98.239998       0\n",
      "2   2025-09-08  97.449997  97.449997  97.940002  97.419998  97.790001       0\n",
      "3   2025-09-09  97.790001  97.790001  97.820000  97.250000  97.379997       0\n",
      "4   2025-09-10  97.779999  97.779999  97.930000  97.599998  97.830002       0\n",
      "5   2025-09-11  97.540001  97.540001  98.089996  97.470001  97.790001       0\n",
      "6   2025-09-12  97.550003  97.550003  97.860001  97.489998  97.519997       0\n",
      "7   2025-09-15  97.300003  97.300003  97.699997  97.269997  97.629997       0\n",
      "8   2025-09-16  96.629997  96.629997  97.389999  96.559998  97.339996       0\n",
      "9   2025-09-17  96.870003  96.870003  97.070000  96.220001  96.620003       0\n",
      "10  2025-09-18  97.349998  97.349998  97.599998  96.839996  96.930000       0\n",
      "11  2025-09-19  97.639999  97.639999  97.809998  97.269997  97.339996       0\n",
      "12  2025-09-22  97.338997  97.338997  97.822998  97.308998  97.649002       0\n",
      "          date  Adj Close  dxy_close       High        Low       Open  Volume\n",
      "0   2025-09-04  98.349998  98.349998  98.440002  98.080002  98.150002       0\n",
      "1   2025-09-05  97.769997  97.769997  98.260002  97.430000  98.239998       0\n",
      "2   2025-09-08  97.449997  97.449997  97.940002  97.419998  97.790001       0\n",
      "3   2025-09-09  97.790001  97.790001  97.820000  97.250000  97.379997       0\n",
      "4   2025-09-10  97.779999  97.779999  97.930000  97.599998  97.830002       0\n",
      "5   2025-09-11  97.540001  97.540001  98.089996  97.470001  97.790001       0\n",
      "6   2025-09-12  97.550003  97.550003  97.860001  97.489998  97.519997       0\n",
      "7   2025-09-15  97.300003  97.300003  97.699997  97.269997  97.629997       0\n",
      "8   2025-09-16  96.629997  96.629997  97.389999  96.559998  97.339996       0\n",
      "9   2025-09-17  96.870003  96.870003  97.070000  96.220001  96.620003       0\n",
      "10  2025-09-18  97.349998  97.349998  97.599998  96.839996  96.930000       0\n",
      "11  2025-09-19  97.639999  97.639999  97.809998  97.269997  97.339996       0\n",
      "12  2025-09-22  97.338997  97.338997  97.822998  97.308998  97.649002       0\n"
     ]
    }
   ],
   "execution_count": 51
  },
  {
   "metadata": {
    "ExecuteTime": {
     "end_time": "2025-09-22T20:35:03.458082Z",
     "start_time": "2025-09-22T20:35:03.440694Z"
    }
   },
   "cell_type": "code",
   "source": [
    "\n",
    "# df['ema_9'] = df['close'].ewm(span=9, adjust=False).mean()\n",
    "\n",
    "df['ema_21'] = df['close'].ewm(span=21, adjust=False).mean()\n",
    "\n",
    "df['sma_50'] = df['close'].rolling(window=50).mean()\n",
    "\n",
    "df.dropna(subset=['ema_21', 'sma_50'], inplace=True)\n",
    "\n",
    "# potential indicator to experiment with\n",
    "# ema_short - sma_long for crossovers\n",
    "# close / sma_50 - 1 for capturing trends"
   ],
   "id": "e23ebae3473cce30",
   "outputs": [],
   "execution_count": 52
  },
  {
   "metadata": {
    "ExecuteTime": {
     "end_time": "2025-09-22T20:35:03.514727Z",
     "start_time": "2025-09-22T20:35:03.503056Z"
    }
   },
   "cell_type": "code",
   "source": [
    "def buy_col_ranged(row):\n",
    "    if pd.isna(row.next_high) or pd.isna(row.next_low):\n",
    "        return np.nan\n",
    "    if row.next_low >= row.high:\n",
    "        return 2\n",
    "    elif row.next_high > row.high:\n",
    "        return 1\n",
    "    elif row.next_high > row.low:\n",
    "        return 0\n",
    "    else:\n",
    "        return -1\n",
    "def sell_col_ranged(row):\n",
    "    if pd.isna(row.next_high) or pd.isna(row.next_low):\n",
    "        return np.nan\n",
    "    if row.next_high <= row.low:\n",
    "        return 2\n",
    "    elif row.next_low < row.low:\n",
    "        return 1\n",
    "    elif row.next_low < row.high:\n",
    "        return 0\n",
    "    else:\n",
    "        return -1"
   ],
   "id": "2da6bf1855d78d34",
   "outputs": [],
   "execution_count": 53
  },
  {
   "metadata": {
    "ExecuteTime": {
     "end_time": "2025-09-22T20:35:03.548022Z",
     "start_time": "2025-09-22T20:35:03.539198Z"
    }
   },
   "cell_type": "code",
   "source": [
    "def buy_col(row):\n",
    "    if pd.isna(row.next_high) or pd.isna(row.next_low):\n",
    "        return np.nan\n",
    "    return (row.next_high - row.high) / row.high\n",
    "\n",
    "def sell_col(row):\n",
    "    if pd.isna(row.next_high) or pd.isna(row.next_low):\n",
    "        return np.nan\n",
    "    return (row.low - row.next_low) / row.low\n",
    "\n",
    "def define_activity(row):\n",
    "    if row.signal_scaled < 0.2:\n",
    "        return 'Strong Sell'\n",
    "    elif row.signal_scaled < 0.4:\n",
    "        return 'Sell'\n",
    "    elif row.signal_scaled < 0.6:\n",
    "        return 'Hold'\n",
    "    elif row.signal_scaled < 0.8:\n",
    "        return 'Buy'\n",
    "    else:\n",
    "        return 'Strong Buy'"
   ],
   "id": "5e7ea3641e7698e0",
   "outputs": [],
   "execution_count": 54
  },
  {
   "metadata": {
    "ExecuteTime": {
     "end_time": "2025-09-22T20:35:04.007624Z",
     "start_time": "2025-09-22T20:35:03.598216Z"
    }
   },
   "cell_type": "code",
   "source": [
    "\n",
    "df['next_high'] = df['high'].shift(-1)\n",
    "df['next_low'] = df['low'].shift(-1)\n",
    "\n",
    "df['buy_index'] = df.apply(buy_col, axis=1)\n",
    "df['sell_index'] = df.apply(sell_col, axis=1)\n",
    "\n",
    "df['signal'] = df['buy_index'] - df['sell_index']\n",
    "scale = df['signal'].abs().median()\n",
    "df['signal_scaled'] = 0.5 * (np.tanh( (df['buy_index'] - df['sell_index']) / scale ) + 1)\n",
    "\n",
    "df['activity'] = df.apply(define_activity, axis=1)\n",
    "\n",
    "df.dropna(subset=['buy_index','sell_index'], inplace=True)\n"
   ],
   "id": "ab7717561f6cf8a8",
   "outputs": [],
   "execution_count": 55
  },
  {
   "metadata": {
    "ExecuteTime": {
     "end_time": "2025-09-22T20:35:04.046918Z",
     "start_time": "2025-09-22T20:35:04.016725Z"
    }
   },
   "cell_type": "code",
   "source": [
    "print(df)\n",
    "\n",
    "export_df = df[['dxy', 'ema_21', 'sma_50', 'activity']]\n",
    "print(export_df)\n",
    "\n",
    "%store export_df"
   ],
   "id": "b6c9cb0c6d5fddcc",
   "outputs": [
    {
     "name": "stdout",
     "output_type": "stream",
     "text": [
      "               timestamp       open       high        low      close  \\\n",
      "49   2025-09-08 04:05:00  111042.48  111118.15  110953.06  111040.00   \n",
      "50   2025-09-08 04:10:00  111039.99  111067.26  110950.00  111067.26   \n",
      "51   2025-09-08 04:15:00  111067.26  111093.16  111045.53  111090.38   \n",
      "52   2025-09-08 04:20:00  111090.39  111135.77  111065.66  111135.77   \n",
      "53   2025-09-08 04:25:00  111135.77  111135.77  111118.00  111135.76   \n",
      "...                  ...        ...        ...        ...        ...   \n",
      "4273 2025-09-22 20:05:00  112077.58  112087.66  111975.28  112014.09   \n",
      "4274 2025-09-22 20:10:00  112014.10  112137.31  112006.49  112127.20   \n",
      "4275 2025-09-22 20:15:00  112127.21  112153.38  112044.04  112121.95   \n",
      "4276 2025-09-22 20:20:00  112121.95  112155.50  112092.98  112155.49   \n",
      "4277 2025-09-22 20:25:00  112155.48  112295.64  112155.48  112280.01   \n",
      "\n",
      "        volume        date        dxy         ema_21       sma_50  next_high  \\\n",
      "49    97.64008  2025-09-08  97.449997  111094.219386  111021.6016  111067.26   \n",
      "50    46.62599  2025-09-08  97.449997  111091.768533  111021.8360  111093.16   \n",
      "51    12.66032  2025-09-08  97.449997  111091.642302  111022.7954  111135.77   \n",
      "52    15.91083  2025-09-08  97.449997  111095.653911  111023.1908  111135.77   \n",
      "53     9.34012  2025-09-08  97.449997  111099.299919  111025.4416  111218.49   \n",
      "...        ...         ...        ...            ...          ...        ...   \n",
      "4273  37.22644  2025-09-22  97.338997  112331.001278  112510.3936  112137.31   \n",
      "4274  35.93281  2025-09-22  97.338997  112312.473889  112495.3824  112153.38   \n",
      "4275  16.52245  2025-09-22  97.338997  112295.153535  112481.9680  112155.50   \n",
      "4276  19.13348  2025-09-22  97.338997  112282.456850  112468.9786  112295.64   \n",
      "4277  39.89357  2025-09-22  97.338997  112282.234409  112460.0528  112442.34   \n",
      "\n",
      "       next_low  buy_index  sell_index    signal  signal_scaled     activity  \n",
      "49    110950.00  -0.000458    0.000028 -0.000486       0.155078  Strong Sell  \n",
      "50    111045.53   0.000233   -0.000861  0.001094       0.978551   Strong Buy  \n",
      "51    111065.66   0.000384   -0.000181  0.000565       0.877834   Strong Buy  \n",
      "52    111118.00   0.000000   -0.000471  0.000471       0.838263   Strong Buy  \n",
      "53    111135.75   0.000744   -0.000160  0.000904       0.959163   Strong Buy  \n",
      "...         ...        ...         ...       ...            ...          ...  \n",
      "4273  112006.49   0.000443   -0.000279  0.000722       0.925512   Strong Buy  \n",
      "4274  112044.04   0.000143   -0.000335  0.000479       0.841690   Strong Buy  \n",
      "4275  112092.98   0.000019   -0.000437  0.000456       0.830763   Strong Buy  \n",
      "4276  112155.48   0.001250   -0.000558  0.001807       0.998184   Strong Buy  \n",
      "4277  112280.00   0.001306   -0.001110  0.002417       0.999783   Strong Buy  \n",
      "\n",
      "[4229 rows x 17 columns]\n",
      "            dxy         ema_21       sma_50     activity\n",
      "49    97.449997  111094.219386  111021.6016  Strong Sell\n",
      "50    97.449997  111091.768533  111021.8360   Strong Buy\n",
      "51    97.449997  111091.642302  111022.7954   Strong Buy\n",
      "52    97.449997  111095.653911  111023.1908   Strong Buy\n",
      "53    97.449997  111099.299919  111025.4416   Strong Buy\n",
      "...         ...            ...          ...          ...\n",
      "4273  97.338997  112331.001278  112510.3936   Strong Buy\n",
      "4274  97.338997  112312.473889  112495.3824   Strong Buy\n",
      "4275  97.338997  112295.153535  112481.9680   Strong Buy\n",
      "4276  97.338997  112282.456850  112468.9786   Strong Buy\n",
      "4277  97.338997  112282.234409  112460.0528   Strong Buy\n",
      "\n",
      "[4229 rows x 4 columns]\n",
      "Stored 'export_df' (DataFrame)\n"
     ]
    }
   ],
   "execution_count": 56
  }
 ],
 "metadata": {
  "kernelspec": {
   "display_name": "Pythong (btc-env)",
   "language": "python",
   "name": "btc-env"
  },
  "language_info": {
   "codemirror_mode": {
    "name": "ipython",
    "version": 2
   },
   "file_extension": ".py",
   "mimetype": "text/x-python",
   "name": "python",
   "nbconvert_exporter": "python",
   "pygments_lexer": "ipython2",
   "version": "2.7.6"
  }
 },
 "nbformat": 4,
 "nbformat_minor": 5
}
