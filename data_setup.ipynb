{
 "cells": [
  {
   "metadata": {
    "ExecuteTime": {
     "end_time": "2025-09-21T10:04:30.102032Z",
     "start_time": "2025-09-21T10:04:15.674196Z"
    }
   },
   "cell_type": "code",
   "source": [
    "import ccxt\n",
    "import time\n",
    "import pandas as pd\n",
    "import numpy as np\n",
    "from datetime import datetime, timedelta, timezone\n",
    "\n",
    "binance = ccxt.binance()\n",
    "\n",
    "symbol = 'BTC/USDT'\n",
    "timeframe = '5m'\n",
    "limit = 1000\n",
    "\n",
    "since_dt = datetime.now(timezone.utc) - timedelta(days=7*3 + 3) # 3 weeks (+3 to avoid weekends if i fetch index, like the dxy, where they dont work on weekends, and i just remove where dxy is Nan)\n",
    "since = int(since_dt.timestamp() * 1000) # second in milliseconds\n",
    "\n",
    "all_candles = []\n",
    "\n",
    "while True:\n",
    "    candles = binance.fetch_ohlcv(symbol, timeframe=timeframe, since=since, limit=limit) # binance api from ccxt\n",
    "    if not candles:\n",
    "        break\n",
    "    all_candles += candles\n",
    "\n",
    "    since = candles[-1][0] + 1 # update since to last candle timestamp + 1 ms\n",
    "    time.sleep(0.5)  # avoid hitting rate limits with api\n",
    "\n",
    "# Convert to DataFrame (table)\n",
    "df = pd.DataFrame(all_candles, columns=['timestamp', 'open', 'high', 'low', 'close', 'volume'])\n",
    "df['timestamp'] = pd.to_datetime(df['timestamp'], unit='ms')"
   ],
   "id": "f5c6ea8ab0f6578a",
   "outputs": [],
   "execution_count": 70
  },
  {
   "metadata": {
    "ExecuteTime": {
     "end_time": "2025-09-21T10:04:30.521543Z",
     "start_time": "2025-09-21T10:04:30.162420Z"
    }
   },
   "cell_type": "code",
   "source": [
    "import yfinance as yf\n",
    "\n",
    "dxy_daily = yf.download(\n",
    "    'DX-Y.NYB',\n",
    "    start=df['timestamp'].min().date() - pd.Timedelta(days=3),  # to avoid weekends\n",
    "    end=df['timestamp'].max().date() + pd.Timedelta(days=3),\n",
    "    interval='1d',\n",
    "    progress=False,\n",
    "    auto_adjust=False\n",
    ")\n",
    "\n",
    "# Reset index to move 'Date' to a column\n",
    "dxy_daily = dxy_daily.reset_index(drop=False)\n",
    "\n",
    "# Because its multilevel, make it one level (like df)\n",
    "if isinstance(dxy_daily.columns, pd.MultiIndex):\n",
    "    dxy_daily.columns = [col[0] for col in dxy_daily.columns]\n",
    "\n",
    "dxy_daily.rename(columns={'Date': 'date'}, inplace=True)\n",
    "dxy_daily.rename(columns={'Close': 'dxy_close'}, inplace=True)\n",
    "\n",
    "dxy_daily[\"date\"] = pd.to_datetime(dxy_daily[\"date\"]).dt.date\n",
    "df[\"date\"] = pd.to_datetime(df[\"timestamp\"]).dt.date\n",
    "\n",
    "print(dxy_daily)\n",
    "\n",
    "df = pd.merge(df, dxy_daily[[\"date\", \"dxy_close\"]], on=\"date\", how=\"left\")\n",
    "\n",
    "df['dxy_close'] = df['dxy_close'].ffill()\n",
    "df = df.dropna(subset=['dxy_close']).reset_index(drop=True)\n",
    "df.rename(columns={'dxy_close': 'dxy'}, inplace=True)\n",
    "\n",
    "print(dxy_daily)"
   ],
   "id": "a667fa3fca958d12",
   "outputs": [
    {
     "name": "stdout",
     "output_type": "stream",
     "text": [
      "2025-08-28\n",
      "          date  Adj Close  dxy_close       High        Low       Open  Volume\n",
      "0   2025-08-25  98.430000  98.430000  98.540001  97.709999  97.730003       0\n",
      "1   2025-08-26  98.230003  98.230003  98.559998  98.089996  98.470001       0\n",
      "2   2025-08-27  98.230003  98.230003  98.730003  98.160004  98.250000       0\n",
      "3   2025-08-28  97.809998  97.809998  98.230003  97.739998  98.120003       0\n",
      "4   2025-08-29  97.769997  97.769997  98.129997  97.690002  97.870003       0\n",
      "5   2025-09-02  98.400002  98.400002  98.599998  97.620003  97.650002       0\n",
      "6   2025-09-03  98.139999  98.139999  98.639999  98.010002  98.400002       0\n",
      "7   2025-09-04  98.349998  98.349998  98.440002  98.080002  98.150002       0\n",
      "8   2025-09-05  97.769997  97.769997  98.260002  97.430000  98.239998       0\n",
      "9   2025-09-08  97.449997  97.449997  97.940002  97.419998  97.790001       0\n",
      "10  2025-09-09  97.790001  97.790001  97.820000  97.250000  97.379997       0\n",
      "11  2025-09-10  97.779999  97.779999  97.930000  97.599998  97.830002       0\n",
      "12  2025-09-11  97.540001  97.540001  98.089996  97.470001  97.790001       0\n",
      "13  2025-09-12  97.550003  97.550003  97.860001  97.489998  97.519997       0\n",
      "14  2025-09-15  97.300003  97.300003  97.699997  97.269997  97.629997       0\n",
      "15  2025-09-16  96.629997  96.629997  97.389999  96.559998  97.339996       0\n",
      "16  2025-09-17  96.870003  96.870003  97.070000  96.220001  96.620003       0\n",
      "17  2025-09-18  97.349998  97.349998  97.599998  96.839996  96.930000       0\n",
      "18  2025-09-19  97.647003  97.647003  97.808998  97.269997  97.344002       0\n",
      "          date  Adj Close  dxy_close       High        Low       Open  Volume\n",
      "0   2025-08-25  98.430000  98.430000  98.540001  97.709999  97.730003       0\n",
      "1   2025-08-26  98.230003  98.230003  98.559998  98.089996  98.470001       0\n",
      "2   2025-08-27  98.230003  98.230003  98.730003  98.160004  98.250000       0\n",
      "3   2025-08-28  97.809998  97.809998  98.230003  97.739998  98.120003       0\n",
      "4   2025-08-29  97.769997  97.769997  98.129997  97.690002  97.870003       0\n",
      "5   2025-09-02  98.400002  98.400002  98.599998  97.620003  97.650002       0\n",
      "6   2025-09-03  98.139999  98.139999  98.639999  98.010002  98.400002       0\n",
      "7   2025-09-04  98.349998  98.349998  98.440002  98.080002  98.150002       0\n",
      "8   2025-09-05  97.769997  97.769997  98.260002  97.430000  98.239998       0\n",
      "9   2025-09-08  97.449997  97.449997  97.940002  97.419998  97.790001       0\n",
      "10  2025-09-09  97.790001  97.790001  97.820000  97.250000  97.379997       0\n",
      "11  2025-09-10  97.779999  97.779999  97.930000  97.599998  97.830002       0\n",
      "12  2025-09-11  97.540001  97.540001  98.089996  97.470001  97.790001       0\n",
      "13  2025-09-12  97.550003  97.550003  97.860001  97.489998  97.519997       0\n",
      "14  2025-09-15  97.300003  97.300003  97.699997  97.269997  97.629997       0\n",
      "15  2025-09-16  96.629997  96.629997  97.389999  96.559998  97.339996       0\n",
      "16  2025-09-17  96.870003  96.870003  97.070000  96.220001  96.620003       0\n",
      "17  2025-09-18  97.349998  97.349998  97.599998  96.839996  96.930000       0\n",
      "18  2025-09-19  97.647003  97.647003  97.808998  97.269997  97.344002       0\n"
     ]
    }
   ],
   "execution_count": 72
  },
  {
   "metadata": {
    "ExecuteTime": {
     "end_time": "2025-09-21T10:04:30.536933Z",
     "start_time": "2025-09-21T10:04:30.529396Z"
    }
   },
   "cell_type": "code",
   "source": [
    "def buy_col_ranged(row):\n",
    "    if pd.isna(row.next_high) or pd.isna(row.next_low):\n",
    "        return np.nan\n",
    "    if row.next_low >= row.high:\n",
    "        return 2\n",
    "    elif row.next_high > row.high:\n",
    "        return 1\n",
    "    elif row.next_high > row.low:\n",
    "        return 0\n",
    "    else:\n",
    "        return -1\n",
    "def sell_col_ranged(row):\n",
    "    if pd.isna(row.next_high) or pd.isna(row.next_low):\n",
    "        return np.nan\n",
    "    if row.next_high <= row.low:\n",
    "        return 2\n",
    "    elif row.next_low < row.low:\n",
    "        return 1\n",
    "    elif row.next_low < row.high:\n",
    "        return 0\n",
    "    else:\n",
    "        return -1"
   ],
   "id": "2da6bf1855d78d34",
   "outputs": [],
   "execution_count": 73
  },
  {
   "metadata": {
    "ExecuteTime": {
     "end_time": "2025-09-21T10:04:30.584039Z",
     "start_time": "2025-09-21T10:04:30.576598Z"
    }
   },
   "cell_type": "code",
   "source": [
    "def buy_col(row):\n",
    "    if pd.isna(row.next_high) or pd.isna(row.next_low):\n",
    "        return np.nan\n",
    "    return (row.next_high - row.high) / row.high\n",
    "\n",
    "def sell_col(row):\n",
    "    if pd.isna(row.next_high) or pd.isna(row.next_low):\n",
    "        return np.nan\n",
    "    return (row.low - row.next_low) / row.low\n",
    "\n",
    "def define_activity(row):\n",
    "    if row.signal_scaled < 0.2:\n",
    "        return 'Strong Sell'\n",
    "    elif row.signal_scaled < 0.4:\n",
    "        return 'Sell'\n",
    "    elif row.signal_scaled < 0.6:\n",
    "        return 'Hold'\n",
    "    elif row.signal_scaled < 0.8:\n",
    "        return 'Buy'\n",
    "    else:\n",
    "        return 'Strong Buy'"
   ],
   "id": "5e7ea3641e7698e0",
   "outputs": [],
   "execution_count": 74
  },
  {
   "metadata": {
    "ExecuteTime": {
     "end_time": "2025-09-21T10:04:31.046836Z",
     "start_time": "2025-09-21T10:04:30.593379Z"
    }
   },
   "cell_type": "code",
   "source": [
    "\n",
    "df['next_high'] = df['high'].shift(-1)\n",
    "df['next_low'] = df['low'].shift(-1)\n",
    "\n",
    "df['buy_index'] = df.apply(buy_col, axis=1)\n",
    "df['sell_index'] = df.apply(sell_col, axis=1)\n",
    "\n",
    "df['signal'] = df['buy_index'] - df['sell_index']\n",
    "scale = df['signal'].abs().median()\n",
    "df['signal_scaled'] = 0.5 * (np.tanh( (df['buy_index'] - df['sell_index']) / scale ) + 1)\n",
    "\n",
    "df['activity'] = df.apply(define_activity, axis=1)\n",
    "\n",
    "df.dropna(subset=['buy_index','sell_index'], inplace=True)\n"
   ],
   "id": "ab7717561f6cf8a8",
   "outputs": [],
   "execution_count": 75
  },
  {
   "metadata": {
    "ExecuteTime": {
     "end_time": "2025-09-21T10:04:31.079334Z",
     "start_time": "2025-09-21T10:04:31.064127Z"
    }
   },
   "cell_type": "code",
   "source": [
    "df = df[['date', 'timestamp', 'dxy', 'volume', 'open', 'close', 'high', 'next_high', 'low', 'next_low', 'buy_index', 'sell_index', 'signal', 'signal_scaled', 'activity']]\n",
    "print(df)"
   ],
   "id": "23cf422b552199bc",
   "outputs": [
    {
     "name": "stdout",
     "output_type": "stream",
     "text": [
      "            date           timestamp        dxy    volume       open  \\\n",
      "0     2025-08-28 2025-08-28 10:05:00  97.809998  43.93834  112840.98   \n",
      "1     2025-08-28 2025-08-28 10:10:00  97.809998  26.39111  112969.92   \n",
      "2     2025-08-28 2025-08-28 10:15:00  97.809998  14.12757  113019.38   \n",
      "3     2025-08-28 2025-08-28 10:20:00  97.809998  12.62388  112911.01   \n",
      "4     2025-08-28 2025-08-28 10:25:00  97.809998  12.10310  112888.01   \n",
      "...          ...                 ...        ...       ...        ...   \n",
      "6906  2025-09-21 2025-09-21 09:35:00  97.647003  29.01007  115406.28   \n",
      "6907  2025-09-21 2025-09-21 09:40:00  97.647003  20.10248  115409.81   \n",
      "6908  2025-09-21 2025-09-21 09:45:00  97.647003  34.06336  115516.29   \n",
      "6909  2025-09-21 2025-09-21 09:50:00  97.647003  18.06040  115568.26   \n",
      "6910  2025-09-21 2025-09-21 09:55:00  97.647003  37.62566  115597.98   \n",
      "\n",
      "          close       high  next_high        low   next_low  buy_index  \\\n",
      "0     112969.92  112995.96  113037.98  112840.98  112969.91   0.000372   \n",
      "1     113019.38  113037.98  113022.53  112969.91  112911.00  -0.000137   \n",
      "2     112911.00  113022.53  112945.27  112911.00  112888.00  -0.000684   \n",
      "3     112888.00  112945.27  112917.78  112888.00  112888.00  -0.000243   \n",
      "4     112909.18  112917.78  113010.85  112888.00  112909.17   0.000824   \n",
      "...         ...        ...        ...        ...        ...        ...   \n",
      "6906  115409.80  115409.81  115516.30  115329.03  115409.80   0.000923   \n",
      "6907  115516.29  115516.30  115569.33  115409.80  115475.78   0.000459   \n",
      "6908  115568.26  115569.33  115619.63  115475.78  115568.26   0.000435   \n",
      "6909  115597.97  115619.63  115704.53  115568.26  115597.97   0.000734   \n",
      "6910  115683.54  115704.53  115685.96  115597.97  115683.53  -0.000160   \n",
      "\n",
      "      sell_index    signal  signal_scaled     activity  \n",
      "0      -0.001143  0.001514       0.992029   Strong Buy  \n",
      "1       0.000521 -0.000658       0.109450  Strong Sell  \n",
      "2       0.000204 -0.000887       0.055923  Strong Sell  \n",
      "3       0.000000 -0.000243       0.315340         Sell  \n",
      "4      -0.000188  0.001012       0.961680   Strong Buy  \n",
      "...          ...       ...            ...          ...  \n",
      "6906   -0.000700  0.001623       0.994347   Strong Buy  \n",
      "6907   -0.000572  0.001031       0.963851   Strong Buy  \n",
      "6908   -0.000801  0.001236       0.980872   Strong Buy  \n",
      "6909   -0.000257  0.000991       0.959216   Strong Buy  \n",
      "6910   -0.000740  0.000580       0.863699   Strong Buy  \n",
      "\n",
      "[6911 rows x 15 columns]\n"
     ]
    }
   ],
   "execution_count": 76
  }
 ],
 "metadata": {
  "kernelspec": {
   "display_name": "Pythong (btc-env)",
   "language": "python",
   "name": "btc-env"
  },
  "language_info": {
   "codemirror_mode": {
    "name": "ipython",
    "version": 2
   },
   "file_extension": ".py",
   "mimetype": "text/x-python",
   "name": "python",
   "nbconvert_exporter": "python",
   "pygments_lexer": "ipython2",
   "version": "2.7.6"
  }
 },
 "nbformat": 4,
 "nbformat_minor": 5
}
